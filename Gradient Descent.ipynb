{
 "cells": [
  {
   "cell_type": "code",
   "execution_count": 16,
   "metadata": {},
   "outputs": [],
   "source": [
    "import numpy as np"
   ]
  },
  {
   "cell_type": "code",
   "execution_count": 17,
   "metadata": {},
   "outputs": [],
   "source": [
    "np.random.seed(23)"
   ]
  },
  {
   "cell_type": "code",
   "execution_count": 18,
   "metadata": {},
   "outputs": [],
   "source": [
    "#Need to find the value of x-axis at which the following quadratic function has a minimum y value: y = 5x^3 - 20x + 2\n",
    "#For the function, y = f(x) = 5x^3 - 20x + 2\n",
    "                # dy/dx = 15x^2 - 20"
   ]
  },
  {
   "cell_type": "code",
   "execution_count": 19,
   "metadata": {},
   "outputs": [
    {
     "name": "stdout",
     "output_type": "stream",
     "text": [
      "5*x**3 - 20*x + 2\n"
     ]
    }
   ],
   "source": [
    "from sympy import symbols     #Function definition code from https://stackoverflow.com/questions/45273940/cubic-polynomial-in-python\n",
    "def f(x):\n",
    "    return 5*x**3 - 20*x + 2\n",
    "x= symbols('x')\n",
    "print(f(x))"
   ]
  },
  {
   "cell_type": "code",
   "execution_count": 20,
   "metadata": {},
   "outputs": [],
   "source": [
    "#Defining the derivative function"
   ]
  },
  {
   "cell_type": "code",
   "execution_count": 21,
   "metadata": {},
   "outputs": [],
   "source": [
    "def f_deriv(x):\n",
    "    return 15*x**2 - 20"
   ]
  },
  {
   "cell_type": "code",
   "execution_count": 22,
   "metadata": {},
   "outputs": [],
   "source": [
    "#Applying the gradient descent algorithm to calculate the global minimum value of x"
   ]
  },
  {
   "cell_type": "code",
   "execution_count": 23,
   "metadata": {},
   "outputs": [
    {
     "name": "stdout",
     "output_type": "stream",
     "text": [
      "The cubic function has a global minimum value at x =1.155\n"
     ]
    }
   ],
   "source": [
    "init_solution = np.random.randint(-10, 10)                       \n",
    "\n",
    "def gradient_descent (x,learning_rate,iterations):\n",
    "    for i in range(iterations):\n",
    "        x = x - learning_rate * f_deriv(x)\n",
    "    return(x)\n",
    "\n",
    "mini = gradient_descent(init_solution, 0.001 , 1000)\n",
    "        \n",
    "print (\"The cubic function has a global minimum value at x =\"+ str(round(mini, 3)))"
   ]
  }
 ],
 "metadata": {
  "kernelspec": {
   "display_name": "Python 3 (ipykernel)",
   "language": "python",
   "name": "python3"
  },
  "language_info": {
   "codemirror_mode": {
    "name": "ipython",
    "version": 3
   },
   "file_extension": ".py",
   "mimetype": "text/x-python",
   "name": "python",
   "nbconvert_exporter": "python",
   "pygments_lexer": "ipython3",
   "version": "3.9.7"
  }
 },
 "nbformat": 4,
 "nbformat_minor": 4
}
