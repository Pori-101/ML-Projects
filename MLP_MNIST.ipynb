{
 "cells": [
  {
   "cell_type": "code",
   "execution_count": 1,
   "metadata": {
    "id": "N7z3cM7aEvC9"
   },
   "outputs": [],
   "source": [
    "import numpy as np\n",
    "import pandas as pd\n",
    "from sklearn import datasets\n",
    "import matplotlib.pyplot as plt\n",
    "import seaborn as sns\n",
    "from sklearn.model_selection import train_test_split\n",
    "from sklearn.datasets import load_digits\n",
    "import statistics\n",
    "from sklearn.neural_network import MLPClassifier\n",
    "from sklearn.model_selection import cross_val_score"
   ]
  },
  {
   "cell_type": "code",
   "execution_count": 2,
   "metadata": {
    "id": "DFD8v8C4EvC-"
   },
   "outputs": [],
   "source": [
    "np.random.seed(42)"
   ]
  },
  {
   "cell_type": "markdown",
   "metadata": {},
   "source": [
    "### Loading the data "
   ]
  },
  {
   "cell_type": "code",
   "execution_count": 3,
   "metadata": {
    "id": "sOoTXQ8aEvC_"
   },
   "outputs": [],
   "source": [
    "mnist = load_digits()"
   ]
  },
  {
   "cell_type": "markdown",
   "metadata": {},
   "source": [
    "### Normalizing the data"
   ]
  },
  {
   "cell_type": "code",
   "execution_count": 4,
   "metadata": {
    "colab": {
     "base_uri": "https://localhost:8080/",
     "height": 0
    },
    "id": "GuCS-02HEvDA",
    "outputId": "31db1b53-7bab-4bbf-d1b7-d64a6290e41f"
   },
   "outputs": [
    {
     "data": {
      "text/plain": [
       "((1797, 64), (1797,))"
      ]
     },
     "execution_count": 4,
     "metadata": {},
     "output_type": "execute_result"
    }
   ],
   "source": [
    "n_samples = len(mnist.images)\n",
    "X = mnist.images.reshape((n_samples, -1))\n",
    "X = X.astype(\"float32\") / 255\n",
    "Y = mnist.target\n",
    "X.shape, Y.shape"
   ]
  },
  {
   "cell_type": "markdown",
   "metadata": {},
   "source": [
    "### Splitting the data"
   ]
  },
  {
   "cell_type": "code",
   "execution_count": 5,
   "metadata": {},
   "outputs": [],
   "source": [
    " X_train, X_test, Y_train, Y_test = train_test_split(X, Y, test_size=0.2, random_state=0, stratify=Y)"
   ]
  },
  {
   "cell_type": "code",
   "execution_count": 6,
   "metadata": {},
   "outputs": [
    {
     "data": {
      "text/plain": [
       "((1437, 64), (360, 64), (1437,), (360,))"
      ]
     },
     "execution_count": 6,
     "metadata": {},
     "output_type": "execute_result"
    }
   ],
   "source": [
    "X_train.shape, X_test.shape, Y_train.shape, Y_test.shape"
   ]
  },
  {
   "cell_type": "markdown",
   "metadata": {},
   "source": [
    "### Building multi-layer perceptron models, performing stratified 5-fold cross-validation and calculating prediction accuracies"
   ]
  },
  {
   "cell_type": "markdown",
   "metadata": {},
   "source": [
    "#### Model 1"
   ]
  },
  {
   "cell_type": "code",
   "execution_count": 7,
   "metadata": {},
   "outputs": [
    {
     "name": "stdout",
     "output_type": "stream",
     "text": [
      "Accuracy of perceptron Model 1 on training set: 1.00\n",
      "Accuracy of perceptron Model 1 on test set: 0.97\n",
      "Individual cross-validation accuracies of Model 1 are [0.93333333 0.87777778 0.95543175 0.9637883  0.90529248]\n",
      "Mean Cross Validation Accuracy of of Model 1 is 0.9271247291860105\n"
     ]
    }
   ],
   "source": [
    "model1 = MLPClassifier(random_state=1, max_iter=10000)\n",
    "model1.fit(X_train, Y_train)\n",
    "\n",
    "print('Accuracy of perceptron Model 1 on training set: {:.2f}'.format(model1.score(X_train, Y_train)))\n",
    "\n",
    "print('Accuracy of perceptron Model 1 on test set: {:.2f}'.format(model1.score(X_test, Y_test)))\n",
    "\n",
    "scores1 = cross_val_score(model1, X, Y, cv=5)\n",
    "print(\"Individual cross-validation accuracies of Model 1 are \" + str(scores1))\n",
    "avg1 = statistics.mean(scores1)\n",
    "print(\"Mean Cross Validation Accuracy of of Model 1 is \" + str(avg1))"
   ]
  },
  {
   "cell_type": "markdown",
   "metadata": {},
   "source": [
    "#### Model 2"
   ]
  },
  {
   "cell_type": "code",
   "execution_count": 8,
   "metadata": {
    "id": "jAIrKTpxKKzV"
   },
   "outputs": [
    {
     "name": "stdout",
     "output_type": "stream",
     "text": [
      "Accuracy of perceptron Model 2 on training set: 1.00\n",
      "Accuracy of perceptron Model 2 on test set: 0.95\n",
      "Individual cross-validation accuracies of Model 2 are [0.92777778 0.88888889 0.94428969 0.93036212 0.87743733]\n",
      "Mean Cross Validation Accuracy of of Model 2 is 0.9137511606313835\n"
     ]
    }
   ],
   "source": [
    "model2 = MLPClassifier(hidden_layer_sizes=(400,150,50), max_iter=10000,activation = 'relu', solver='adam',random_state=1)\n",
    "model2.fit(X_train, Y_train)\n",
    "\n",
    "print('Accuracy of perceptron Model 2 on training set: {:.2f}'.format(model2.score(X_train, Y_train)))\n",
    "\n",
    "print('Accuracy of perceptron Model 2 on test set: {:.2f}'.format(model2.score(X_test, Y_test)))\n",
    "\n",
    "scores2 = cross_val_score(model2, X, Y, cv=5)\n",
    "print(\"Individual cross-validation accuracies of Model 2 are \" + str(scores2))\n",
    "avg2 = statistics.mean(scores2)\n",
    "print(\"Mean Cross Validation Accuracy of of Model 2 is \" + str(avg2))"
   ]
  },
  {
   "cell_type": "markdown",
   "metadata": {},
   "source": [
    "#### Model 3"
   ]
  },
  {
   "cell_type": "code",
   "execution_count": 9,
   "metadata": {},
   "outputs": [
    {
     "name": "stdout",
     "output_type": "stream",
     "text": [
      "Accuracy of perceptron Model 3 on training set: 1.00\n",
      "Accuracy of perceptron Model 3 on test set: 0.94\n",
      "Individual cross-validation accuracies of Model 3 are [0.89722222 0.825      0.90807799 0.93314763 0.86350975]\n",
      "Mean Cross Validation Accuracy of Model 3 is 0.885391519653358\n"
     ]
    }
   ],
   "source": [
    "model3 = MLPClassifier(hidden_layer_sizes=(64,32,8), max_iter=10000, activation = 'relu', solver='adam', random_state=1)\n",
    "model3.fit(X_train, Y_train)\n",
    "\n",
    "print('Accuracy of perceptron Model 3 on training set: {:.2f}'.format(model3.score(X_train, Y_train)))\n",
    "\n",
    "print('Accuracy of perceptron Model 3 on test set: {:.2f}'.format(model3.score(X_test, Y_test)))\n",
    "\n",
    "scores3 = cross_val_score(model3, X, Y, cv=5)\n",
    "print(\"Individual cross-validation accuracies of Model 3 are \" + str(scores3))\n",
    "avg3 = statistics.mean(scores3)\n",
    "print(\"Mean Cross Validation Accuracy of Model 3 is \" + str(avg3))"
   ]
  },
  {
   "cell_type": "markdown",
   "metadata": {},
   "source": [
    "#### Model 4"
   ]
  },
  {
   "cell_type": "code",
   "execution_count": 10,
   "metadata": {},
   "outputs": [
    {
     "name": "stdout",
     "output_type": "stream",
     "text": [
      "Accuracy of perceptron Model 4 on training set: 0.99\n",
      "Accuracy of perceptron Model 4 on test set: 0.93\n",
      "Individual cross-validation accuracies of Model 4 are [0.925      0.83888889 0.91364903 0.91922006 0.87743733]\n",
      "Mean Cross Validation Accuracy of Model 4 is 0.8948390591148251\n"
     ]
    }
   ],
   "source": [
    "model4 = MLPClassifier(hidden_layer_sizes=(32,16), max_iter=10000, activation = 'relu', solver='adam', random_state=1)\n",
    "model4.fit(X_train, Y_train)\n",
    "\n",
    "print('Accuracy of perceptron Model 4 on training set: {:.2f}'.format(model4.score(X_train, Y_train)))\n",
    "\n",
    "print('Accuracy of perceptron Model 4 on test set: {:.2f}'.format(model4.score(X_test, Y_test)))\n",
    "\n",
    "scores4 = cross_val_score(model4, X, Y, cv=5)\n",
    "print(\"Individual cross-validation accuracies of Model 4 are \" + str(scores4))\n",
    "avg4 = statistics.mean(scores4)\n",
    "print(\"Mean Cross Validation Accuracy of Model 4 is \" + str(avg4))"
   ]
  },
  {
   "cell_type": "markdown",
   "metadata": {},
   "source": [
    "#### Model 5"
   ]
  },
  {
   "cell_type": "code",
   "execution_count": 11,
   "metadata": {},
   "outputs": [
    {
     "name": "stdout",
     "output_type": "stream",
     "text": [
      "Accuracy of perceptron Model 5 on training set: 1.00\n",
      "Accuracy of perceptron Model 5 on test set: 0.95\n",
      "Individual cross-validation accuracies of Model 5 are [0.9        0.85833333 0.93593315 0.93593315 0.86072423]\n",
      "Mean Cross Validation Accuracy of Model 5 is 0.8981847725162488\n"
     ]
    }
   ],
   "source": [
    "model5 = MLPClassifier(hidden_layer_sizes=(120,64,16), max_iter=10000, activation = 'relu', solver='adam', random_state=1)\n",
    "model5.fit(X_train, Y_train)\n",
    "\n",
    "print('Accuracy of perceptron Model 5 on training set: {:.2f}'.format(model5.score(X_train, Y_train)))\n",
    "\n",
    "print('Accuracy of perceptron Model 5 on test set: {:.2f}'.format(model5.score(X_test, Y_test)))\n",
    "\n",
    "scores5 = cross_val_score(model5, X, Y, cv=5)\n",
    "print(\"Individual cross-validation accuracies of Model 5 are \" + str(scores5))\n",
    "avg5 = statistics.mean(scores5)\n",
    "print(\"Mean Cross Validation Accuracy of Model 5 is \" + str(avg5))"
   ]
  },
  {
   "cell_type": "markdown",
   "metadata": {},
   "source": [
    "#### Model 6"
   ]
  },
  {
   "cell_type": "code",
   "execution_count": 12,
   "metadata": {},
   "outputs": [
    {
     "name": "stdout",
     "output_type": "stream",
     "text": [
      "Accuracy of perceptron Model 6 on training set: 1.00\n",
      "Accuracy of perceptron Model 6 on test set: 0.95\n",
      "Individual cross-validation accuracies of Model 6 are [0.91944444 0.90277778 0.94428969 0.93593315 0.8913649 ]\n",
      "Mean Cross Validation Accuracy of Model 6 is 0.9187619931909625\n"
     ]
    }
   ],
   "source": [
    "model6 = MLPClassifier(hidden_layer_sizes=(320,120,32), max_iter=10000, activation = 'relu', solver='adam', random_state=1)\n",
    "model6.fit(X_train, Y_train)\n",
    "\n",
    "print('Accuracy of perceptron Model 6 on training set: {:.2f}'.format(model6.score(X_train, Y_train)))\n",
    "\n",
    "print('Accuracy of perceptron Model 6 on test set: {:.2f}'.format(model6.score(X_test, Y_test)))\n",
    "\n",
    "scores6 = cross_val_score(model6, X, Y, cv=5)\n",
    "print(\"Individual cross-validation accuracies of Model 6 are \" + str(scores6))\n",
    "avg6 = statistics.mean(scores6)\n",
    "print(\"Mean Cross Validation Accuracy of Model 6 is \" + str(avg6))"
   ]
  },
  {
   "cell_type": "markdown",
   "metadata": {},
   "source": [
    "### Plotting the results from both cross-validation and the test set"
   ]
  },
  {
   "cell_type": "code",
   "execution_count": 19,
   "metadata": {},
   "outputs": [
    {
     "data": {
      "text/html": [
       "<div>\n",
       "<style scoped>\n",
       "    .dataframe tbody tr th:only-of-type {\n",
       "        vertical-align: middle;\n",
       "    }\n",
       "\n",
       "    .dataframe tbody tr th {\n",
       "        vertical-align: top;\n",
       "    }\n",
       "\n",
       "    .dataframe thead th {\n",
       "        text-align: right;\n",
       "    }\n",
       "</style>\n",
       "<table border=\"1\" class=\"dataframe\">\n",
       "  <thead>\n",
       "    <tr style=\"text-align: right;\">\n",
       "      <th></th>\n",
       "      <th>Model 1</th>\n",
       "      <th>Model 2</th>\n",
       "      <th>Model 3</th>\n",
       "      <th>Model 4</th>\n",
       "      <th>Model 5</th>\n",
       "      <th>Model 6</th>\n",
       "    </tr>\n",
       "  </thead>\n",
       "  <tbody>\n",
       "    <tr>\n",
       "      <th>Score 1</th>\n",
       "      <td>0.933333</td>\n",
       "      <td>0.927778</td>\n",
       "      <td>0.897222</td>\n",
       "      <td>0.925000</td>\n",
       "      <td>0.900000</td>\n",
       "      <td>0.919444</td>\n",
       "    </tr>\n",
       "    <tr>\n",
       "      <th>Score 2</th>\n",
       "      <td>0.877778</td>\n",
       "      <td>0.888889</td>\n",
       "      <td>0.825000</td>\n",
       "      <td>0.838889</td>\n",
       "      <td>0.858333</td>\n",
       "      <td>0.902778</td>\n",
       "    </tr>\n",
       "    <tr>\n",
       "      <th>Score 3</th>\n",
       "      <td>0.955432</td>\n",
       "      <td>0.944290</td>\n",
       "      <td>0.908078</td>\n",
       "      <td>0.913649</td>\n",
       "      <td>0.935933</td>\n",
       "      <td>0.944290</td>\n",
       "    </tr>\n",
       "    <tr>\n",
       "      <th>Score 4</th>\n",
       "      <td>0.963788</td>\n",
       "      <td>0.930362</td>\n",
       "      <td>0.933148</td>\n",
       "      <td>0.919220</td>\n",
       "      <td>0.935933</td>\n",
       "      <td>0.935933</td>\n",
       "    </tr>\n",
       "    <tr>\n",
       "      <th>Score 5</th>\n",
       "      <td>0.905292</td>\n",
       "      <td>0.877437</td>\n",
       "      <td>0.863510</td>\n",
       "      <td>0.877437</td>\n",
       "      <td>0.860724</td>\n",
       "      <td>0.891365</td>\n",
       "    </tr>\n",
       "  </tbody>\n",
       "</table>\n",
       "</div>"
      ],
      "text/plain": [
       "          Model 1   Model 2   Model 3   Model 4   Model 5   Model 6\n",
       "Score 1  0.933333  0.927778  0.897222  0.925000  0.900000  0.919444\n",
       "Score 2  0.877778  0.888889  0.825000  0.838889  0.858333  0.902778\n",
       "Score 3  0.955432  0.944290  0.908078  0.913649  0.935933  0.944290\n",
       "Score 4  0.963788  0.930362  0.933148  0.919220  0.935933  0.935933\n",
       "Score 5  0.905292  0.877437  0.863510  0.877437  0.860724  0.891365"
      ]
     },
     "execution_count": 19,
     "metadata": {},
     "output_type": "execute_result"
    }
   ],
   "source": [
    "data = [[0.93333333, 0.92777778, 0.89722222, 0.925, 0.9, 0.91944444],\n",
    "        [0.87777778, 0.88888889, 0.825, 0.83888889, 0.85833333, 0.90277778], \n",
    "        [0.95543175, 0.94428969, 0.90807799, 0.91364903, 0.93593315, 0.94428969], \n",
    "        [0.9637883, 0.93036212, 0.93314763, 0.91922006, 0.93593315, 0.93593315],\n",
    "        [0.90529248, 0.87743733, 0.86350975, 0.87743733, 0.86072423, 0.8913649]]\n",
    " \n",
    "df = pd.DataFrame(data, columns = ['Model 1', 'Model 2', 'Model 3', 'Model 4', 'Model 5', 'Model 6'], \n",
    "                  index =['Score 1', 'Score 2', 'Score 3', 'Score 4', 'Score 5'])\n",
    "df"
   ]
  },
  {
   "cell_type": "code",
   "execution_count": 21,
   "metadata": {},
   "outputs": [
    {
     "data": {
      "text/plain": [
       "Text(0, 0.5, 'Cross Validation Scores')"
      ]
     },
     "execution_count": 21,
     "metadata": {},
     "output_type": "execute_result"
    },
    {
     "data": {
      "image/png": "[encoded data removed]",
      "text/plain": [
       "<Figure size 432x288 with 1 Axes>"
      ]
     },
     "metadata": {
      "needs_background": "light"
     },
     "output_type": "display_data"
    }
   ],
   "source": [
    "fig, ax = plt.subplots()\n",
    "sns.violinplot(data= df, inner = 'quartile', ax=ax)\n",
    "Test_Acc = [0.97, 0.95, 0.94, 0.93, 0.95, 0.95]\n",
    "sns.scatterplot(x=[0,1,2,3,4,5], y=Test_Acc, color=\"pink\", marker=\"X\", s=200, ax=ax)\n",
    "plt.xlabel('Model Numbers')\n",
    "plt.ylabel('Cross Validation Scores')"
   ]
  }
 ],
 "metadata": {
  "colab": {
   "name": "Assignment 6 - Prathana.ipynb",
   "provenance": []
  },
  "kernelspec": {
   "display_name": "Python 3 (ipykernel)",
   "language": "python",
   "name": "python3"
  },
  "language_info": {
   "codemirror_mode": {
    "name": "ipython",
    "version": 3
   },
   "file_extension": ".py",
   "mimetype": "text/x-python",
   "name": "python",
   "nbconvert_exporter": "python",
   "pygments_lexer": "ipython3",
   "version": "3.9.7"
  }
 },
 "nbformat": 4,
 "nbformat_minor": 1
}
